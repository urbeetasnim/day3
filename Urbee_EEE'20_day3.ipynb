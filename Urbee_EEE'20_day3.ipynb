{
 "cells": [
  {
   "cell_type": "markdown",
   "id": "expensive-trade",
   "metadata": {},
   "source": [
    "# About Flow Control\n",
    "\n",
    "1.What is flow control?\n",
    "Ans: A program’s control flow is the order in which the program’s code executes. The control flow of a Python program is regulated by conditional statements, loops, and function calls. This section covers the if statement and for and while loops; functions are covered later in this chapter. Raising and handling exceptions also affects control flow.\n",
    "\n",
    "2.List all flow control with example.\n",
    "\n",
    "Ans: Sequential\n",
    "\n",
    "● Conditional Statement\n",
    "\n",
    "○ If\n",
    "\n",
    "○ If else\n",
    "\n",
    "○ If elif else\n",
    "\n",
    "○ If elif\n",
    "\n",
    "\n",
    "● Iterative statement\n",
    "\n",
    "○ For\n",
    "\n",
    "○ while\n",
    "\n",
    "\n",
    "● Transfer statement\n",
    "\n",
    "○ Break\n",
    "\n",
    "○ Continue"
   ]
  },
  {
   "cell_type": "markdown",
   "id": "resistant-sweet",
   "metadata": {},
   "source": [
    "# Conditional Statement\n",
    "\n",
    "1.What is conditional statement?\n",
    "Ans: When a program only run if the condition is satisfied, that is called coonditional statement.\n",
    "\n",
    "2.Describe structure of conditional statement\n",
    "Ans: To add a condition in python we have to follow this,\n",
    "\n",
    "if condition-1 :\n",
    "    statement 1\n",
    "    statement 2\n",
    "\n",
    "elif condition-2 :\n",
    "    statement 3\n",
    "\n",
    "else :\n",
    "    statement 4\n",
    "\n",
    "statement 5\n",
    "\n",
    "● If condition-1 is satisfied, program will run statement 1 and 2 and then statement 5.\n",
    "\n",
    "● If condition-2 is satisfied, program will run statement 3 and then statement 5.\n",
    "\n",
    "● If none of condition-1 and condition-2 is satisfied, program will run statement 4 and then statement 5."
   ]
  },
  {
   "cell_type": "markdown",
   "id": "collective-weapon",
   "metadata": {},
   "source": [
    " # Problem1\n",
    " Take input from a user and check whether the number is odd or even?"
   ]
  },
  {
   "cell_type": "code",
   "execution_count": 1,
   "id": "atmospheric-magazine",
   "metadata": {},
   "outputs": [
    {
     "name": "stdout",
     "output_type": "stream",
     "text": [
      "Enter a number: 7\n",
      "The number is odd\n"
     ]
    }
   ],
   "source": [
    "a = int(input(\"Enter a number: \"))\n",
    "if a % 2 == 0 :\n",
    "    print(\"The Number is Even\")\n",
    "else :\n",
    "    print(\"The number is odd\")"
   ]
  },
  {
   "cell_type": "markdown",
   "id": "informal-obligation",
   "metadata": {},
   "source": [
    "# Problem 2\n",
    "Take integer input from user, say a\n",
    "\n",
    "1.Print number of sample, if 100<=a<200, and a is divisible by 9 "
   ]
  },
  {
   "cell_type": "code",
   "execution_count": 14,
   "id": "egyptian-major",
   "metadata": {},
   "outputs": [
    {
     "name": "stdout",
     "output_type": "stream",
     "text": [
      "Enter a number: 121\n",
      "In range but not devided by 9 .\n"
     ]
    }
   ],
   "source": [
    "a = int(input(\"Enter a number: \"))\n",
    "if a>=100 and a<200 :\n",
    "    if a % 9 == 0 :\n",
    "        print(\"It satisfies the condition .\")\n",
    "    else :\n",
    "        print(\"In range but not devided by 9 .\")\n",
    "else :\n",
    "    print(\"Not in range .\")"
   ]
  },
  {
   "cell_type": "markdown",
   "id": "green-richmond",
   "metadata": {},
   "source": [
    "2.Display those numbers which are divisible by 7 and multiple of 5, between 500 and 100"
   ]
  },
  {
   "cell_type": "code",
   "execution_count": 7,
   "id": "radio-despite",
   "metadata": {},
   "outputs": [
    {
     "name": "stdout",
     "output_type": "stream",
     "text": [
      "Enter a number: 470\n",
      "It doesn't satisfies the condition .\n"
     ]
    }
   ],
   "source": [
    "c = int(input(\"Enter a number: \"))\n",
    "if c>=100 and c<=500 :\n",
    "    if c%7 == 0 and c%5 == 0:\n",
    "        print(\"It satisfies the condition .\")\n",
    "    else :\n",
    "        print(\"It doesn't satisfies the condition .\")\n",
    "else :\n",
    "    print(\"Not in range .\")"
   ]
  },
  {
   "cell_type": "markdown",
   "id": "exceptional-compromise",
   "metadata": {},
   "source": [
    "# Problem 3\n",
    "1.Take year as a integer input from a user, check whether the year is leap year or not?\n",
    "ans:How to determine whether a year is a leap year\n",
    "\n",
    "To determine whether a year is a leap year, we have to follow these steps:\n",
    "\n",
    "    If the year is evenly divisible by 4, go to step 2. Otherwise, go to step 5.\n",
    "    If the year is evenly divisible by 100, go to step 3. Otherwise, go to step 4.\n",
    "    If the year is evenly divisible by 400, go to step 4. Otherwise, go to step 5.\n",
    "    The year is a leap year (it has 366 days).\n",
    "    The year is not a leap year (it has 365 days).\n",
    "\n",
    "For this reason, the following years are not leap years:\n",
    "\n",
    "1700, 1800, 1900, 2100, 2200, 2300, 2500, 2600\n",
    "The following years are leap years:\n",
    "\n",
    "1600, 2000, 2400\n"
   ]
  },
  {
   "cell_type": "code",
   "execution_count": 8,
   "id": "vanilla-aerospace",
   "metadata": {},
   "outputs": [
    {
     "name": "stdout",
     "output_type": "stream",
     "text": [
      "Enter a year: 2222\n",
      "The year is not a leap year .\n"
     ]
    }
   ],
   "source": [
    "y = int(input(\"Enter a year: \"))\n",
    "\n",
    "if y%4 == 0:\n",
    "    if y%100 == 0:\n",
    "        if y%400 == 0:\n",
    "            print(\"The year is a leap year .\")\n",
    "        else :\n",
    "            print(\"The year is not a leap year .\")\n",
    "    else :\n",
    "        print(\"The year is a leap year\")\n",
    "else :\n",
    "    print(\"The year is not a leap year .\")"
   ]
  },
  {
   "cell_type": "markdown",
   "id": "standing-stock",
   "metadata": {},
   "source": [
    "# Problem 4\n",
    "\n",
    "Make a simple calculator (function : +, -, * and /)\n",
    "\n",
    "1.Take three input from a user, say, input1, input2, input3\n",
    "\n",
    "2.Input 1 represents arithmetic sing ( +, -, * and /)\n",
    "\n",
    "3.Input 2 and input 3 represent number\n",
    "\n",
    "4.Display arithmetic output of input 2 and input 3 based on input 1\n"
   ]
  },
  {
   "cell_type": "code",
   "execution_count": 9,
   "id": "unnecessary-staff",
   "metadata": {},
   "outputs": [
    {
     "name": "stdout",
     "output_type": "stream",
     "text": [
      "Enter an arithmatic sign : *\n",
      "Enter 1st number: 3\n",
      "Enter 2nd number: 7\n",
      "3 * 7 = 21\n"
     ]
    }
   ],
   "source": [
    "i1 = input(\"Enter an arithmatic sign : \")\n",
    "i2 = int(input(\"Enter 1st number: \"))\n",
    "i3 = int(input(\"Enter 2nd number: \"))\n",
    "\n",
    "if i1 == \"+\" :\n",
    "    print(i2,\"+\",i3,\"=\",i2+i3)\n",
    "elif i1 == \"-\" :\n",
    "    print(i2,\"-\",i3,\"=\",i2-i3)\n",
    "elif i1 == \"*\" :\n",
    "    print(i2,\"*\",i3,\"=\",i2*i3)\n",
    "elif i1 == \"/\" :\n",
    "    print(i2,\"/\",i3,\"=\",i2/i3)\n",
    "else :\n",
    "    print(\"Invalid Operator\")"
   ]
  },
  {
   "cell_type": "markdown",
   "id": "julian-floor",
   "metadata": {},
   "source": [
    "# Problem 5\n",
    "\n",
    "Take a number from a user, check if the number is positive or negative or zero and display an appropriate message."
   ]
  },
  {
   "cell_type": "code",
   "execution_count": 10,
   "id": "convenient-transsexual",
   "metadata": {},
   "outputs": [
    {
     "name": "stdout",
     "output_type": "stream",
     "text": [
      "Enter a number: 28\n",
      "The number is positive\n"
     ]
    }
   ],
   "source": [
    "d = int(input(\"Enter a number: \"))\n",
    "\n",
    "if d>=0 :\n",
    "    if d == 0 :\n",
    "        print(\"The number is zero\")\n",
    "    else :\n",
    "        print(\"The number is positive\")\n",
    "else :\n",
    "    print(\"The Number is negative\")"
   ]
  },
  {
   "cell_type": "markdown",
   "id": "extreme-strike",
   "metadata": {},
   "source": [
    "# Problem 6\n",
    "\n",
    "Take values of length and breadth of a rectangle from a user and check if it is square or not."
   ]
  },
  {
   "cell_type": "code",
   "execution_count": 11,
   "id": "located-mediterranean",
   "metadata": {},
   "outputs": [
    {
     "name": "stdout",
     "output_type": "stream",
     "text": [
      "Enter length of the rectangle: 5\n",
      "Enter breadth of the rectangle: 7\n",
      "This is not a square .\n"
     ]
    }
   ],
   "source": [
    "l = int(input(\"Enter length of the rectangle: \"))\n",
    "b = int(input(\"Enter breadth of the rectangle: \"))\n",
    "\n",
    "if l == b :\n",
    "    print(\"This is a square .\")\n",
    "else :\n",
    "    print(\"This is not a square .\")"
   ]
  },
  {
   "cell_type": "markdown",
   "id": "extreme-blank",
   "metadata": {},
   "source": [
    "# Problem 7\n",
    "\n",
    "Take three int values from a user and display the highest and lowest number among them."
   ]
  },
  {
   "cell_type": "code",
   "execution_count": 12,
   "id": "primary-split",
   "metadata": {},
   "outputs": [
    {
     "name": "stdout",
     "output_type": "stream",
     "text": [
      "Enter the first number 47\n",
      "Enter the second number 77\n",
      "Enter the third number 23\n",
      "77 is the highest number\n",
      "23 is the lowest number\n"
     ]
    }
   ],
   "source": [
    "p = int(input(\"Enter the first number \"))\n",
    "q = int(input(\"Enter the second number \"))\n",
    "r = int(input(\"Enter the third number \"))\n",
    "\n",
    "if p>q and p>r :\n",
    "    print(p,\"is the highest number\")\n",
    "elif q>p and q>r :\n",
    "    print(q,\"is the highest number\")\n",
    "elif r>q and r>p :\n",
    "    print(r,\"is the highest number\")\n",
    "    \n",
    "if p<q and p<r :\n",
    "    print(p,\"is the lowest number\")\n",
    "elif q<p and q<r :\n",
    "    print(q,\"is the lowest number\")\n",
    "elif r<q and r<p :\n",
    "    print(r,\"is the lowest number\")"
   ]
  },
  {
   "cell_type": "markdown",
   "id": "three-oklahoma",
   "metadata": {},
   "source": [
    "# Problem 8\n",
    "\n",
    "1.Ask a user to enter marks and print the corresponding grade.\n",
    "\n",
    "○ Hints\n",
    "\n",
    "■ Below 30 - F\n",
    "\n",
    "■ b. 30 to 35 - D\n",
    "\n",
    "■ c. 35 to 40 - C\n",
    "\n",
    "○ Grading should follow hstu grading structure\n"
   ]
  },
  {
   "cell_type": "code",
   "execution_count": 13,
   "id": "devoted-bargain",
   "metadata": {},
   "outputs": [
    {
     "name": "stdout",
     "output_type": "stream",
     "text": [
      "Enter total number 200\n",
      "Enter your number 117\n",
      "Your grade is B-\n",
      "You have got 58.5% number\n"
     ]
    }
   ],
   "source": [
    "t=int(input(\"Enter total number \"))\n",
    "g=int(input(\"Enter your number \"))\n",
    "\n",
    "per = g/t*100 \n",
    "\n",
    "if per >100:\n",
    "    print(\"You can't get more than total number\")\n",
    "elif per>= 80:\n",
    "    print(\"Your grade is A+\")\n",
    "elif per>= 75:\n",
    "    print(\"Your grade is A\")\n",
    "elif per>= 70:\n",
    "    print(\"Your grade is A-\")\n",
    "elif per>= 65:\n",
    "    print(\"Your grade is B+\")\n",
    "elif per>= 60:\n",
    "    print(\"Your grade is B\")\n",
    "elif per>= 55:\n",
    "    print(\"Your grade is B-\")\n",
    "elif per>= 50:\n",
    "    print(\"Your grade is C+\")\n",
    "elif per>= 45:\n",
    "    print(\"Your grade is C\")\n",
    "elif per>= 40:\n",
    "    print(\"Your grade is D\")\n",
    "elif per>= 0:\n",
    "    print(\"Your grade is F\")\n",
    "else :\n",
    "    print(\"Invalid grade\")\n",
    "\n",
    "print(\"You have got \",per,\"% number\" ,sep=\"\")"
   ]
  },
  {
   "cell_type": "code",
   "execution_count": null,
   "id": "automated-producer",
   "metadata": {},
   "outputs": [],
   "source": []
  }
 ],
 "metadata": {
  "kernelspec": {
   "display_name": "Python 3",
   "language": "python",
   "name": "python3"
  },
  "language_info": {
   "codemirror_mode": {
    "name": "ipython",
    "version": 3
   },
   "file_extension": ".py",
   "mimetype": "text/x-python",
   "name": "python",
   "nbconvert_exporter": "python",
   "pygments_lexer": "ipython3",
   "version": "3.9.2"
  }
 },
 "nbformat": 4,
 "nbformat_minor": 5
}
